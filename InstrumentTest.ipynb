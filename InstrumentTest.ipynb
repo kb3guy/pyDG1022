{
 "cells": [
  {
   "cell_type": "markdown",
   "metadata": {},
   "source": [
    "# Instrument Test\n",
    "\n",
    "This Jupyter notebook will help test the functions of the pyDG1022 library in a comprehensive way."
   ]
  },
  {
   "cell_type": "markdown",
   "metadata": {},
   "source": [
    "### Another Attempt - let's.... write our own driver?"
   ]
  },
  {
   "cell_type": "code",
   "execution_count": 7,
   "metadata": {},
   "outputs": [
    {
     "name": "stdout",
     "output_type": "stream",
     "text": [
      "Command generated.\n",
      "\n",
      "Command written. \n",
      "\n",
      "Device Response: RIGOL TECHNOLOGIES,DG1022 ,DG1D120400167,,00.02.00.06.00.02.07\n",
      "\n"
     ]
    }
   ],
   "source": [
    "from pyDG1022 import rDG1022\n",
    "import time\n",
    "import usb\n",
    "import usb.core\n",
    "from ipywidgets import interact, fixed\n",
    "import ipywidgets as widgets\n",
    "\n",
    "#\n",
    "# Initializing and trying to write to the signal generator\n",
    "#\n",
    "try:\n",
    "    # Initialize device\n",
    "    mydevice = rDG1022()\n",
    "\n",
    "    # Test device ID\n",
    "    bcmd = mydevice.compose_message(\"*IDN?\")\n",
    "    print(\"Command generated.\\n\")\n",
    "        \n",
    "    mydevice.writeCommand(bcmd)\n",
    "    print(\"Command written. \\n\")\n",
    "        \n",
    "    response = mydevice.read(1)\n",
    "    print(\"Device Response: \" + response)\n",
    "    \n",
    "    # Turn on outputs\n",
    "    mydevice.ch1()\n",
    "    mydevice.ch2()\n",
    "    \n",
    "    mydevice.f1(600)\n",
    "    mydevice.f2(600)\n",
    "    \n",
    "    mydevice.v1(6)\n",
    "    \n",
    "except usb.core.USBError as e:\n",
    "    print(\"USB Error: \" + str(e) )\n",
    "\n",
    "# Clean up so this works next time\n",
    "try:\n",
    "    del(mydevice)\n",
    "except NameError:\n",
    "    print(\"Nothing to clean up.\")"
   ]
  },
  {
   "cell_type": "markdown",
   "metadata": {},
   "source": [
    "Resources:\n",
    "https://github.com/walac/pyusb/blob/master/docs/tutorial.rst\n",
    "http://sdpha2.ucsd.edu/Lab_Equip_Manuals/USBTMC_1_00.pdf\n"
   ]
  }
 ],
 "metadata": {
  "kernelspec": {
   "display_name": "Python 3",
   "language": "python",
   "name": "python3"
  },
  "language_info": {
   "codemirror_mode": {
    "name": "ipython",
    "version": 3
   },
   "file_extension": ".py",
   "mimetype": "text/x-python",
   "name": "python",
   "nbconvert_exporter": "python",
   "pygments_lexer": "ipython3",
   "version": "3.8.3rc1"
  },
  "latex_envs": {
   "LaTeX_envs_menu_present": true,
   "autoclose": false,
   "autocomplete": true,
   "bibliofile": "biblio.bib",
   "cite_by": "apalike",
   "current_citInitial": 1,
   "eqLabelWithNumbers": true,
   "eqNumInitial": 1,
   "hotkeys": {
    "equation": "Ctrl-E",
    "itemize": "Ctrl-I"
   },
   "labels_anchors": false,
   "latex_user_defs": false,
   "report_style_numbering": false,
   "user_envs_cfg": false
  }
 },
 "nbformat": 4,
 "nbformat_minor": 4
}
