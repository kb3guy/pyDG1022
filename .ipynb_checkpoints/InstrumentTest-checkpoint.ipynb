{
 "cells": [
  {
   "cell_type": "markdown",
   "metadata": {},
   "source": [
    "# Testbed"
   ]
  },
  {
   "cell_type": "markdown",
   "metadata": {},
   "source": [
    "### Another Attempt - let's.... write our own driver?"
   ]
  },
  {
   "cell_type": "code",
   "execution_count": 2,
   "metadata": {},
   "outputs": [
    {
     "name": "stdout",
     "output_type": "stream",
     "text": [
      "Device Response: RIGOL TECHNOLOGIES,DG1022 ,DG1D120400167,,00.02.00.06.00.02.07\n",
      "\n"
     ]
    },
    {
     "data": {
      "application/vnd.jupyter.widget-view+json": {
       "model_id": "0f26e616d7a240e9b4addebdc485a957",
       "version_major": 2,
       "version_minor": 0
      },
      "text/plain": [
       "interactive(children=(FloatSlider(value=2.5, description='voltage', max=7.5, min=-2.5), Output()), _dom_classe…"
      ]
     },
     "metadata": {},
     "output_type": "display_data"
    },
    {
     "data": {
      "application/vnd.jupyter.widget-view+json": {
       "model_id": "4fd95d4bb0214de2a33b0ddf503a7303",
       "version_major": 2,
       "version_minor": 0
      },
      "text/plain": [
       "interactive(children=(IntSlider(value=3, description='voltage', max=9, min=-3), Output()), _dom_classes=('widg…"
      ]
     },
     "metadata": {},
     "output_type": "display_data"
    },
    {
     "data": {
      "application/vnd.jupyter.widget-view+json": {
       "model_id": "94821cd18f8e411f8c2fd61521a141ca",
       "version_major": 2,
       "version_minor": 0
      },
      "text/plain": [
       "interactive(children=(IntSlider(value=1000, description='frequency', max=3000, min=-1000), Output()), _dom_cla…"
      ]
     },
     "metadata": {},
     "output_type": "display_data"
    },
    {
     "data": {
      "application/vnd.jupyter.widget-view+json": {
       "model_id": "30214f492d684357b62029681e2c58f3",
       "version_major": 2,
       "version_minor": 0
      },
      "text/plain": [
       "interactive(children=(IntSlider(value=500, description='frequency', max=1500, min=-500), Output()), _dom_class…"
      ]
     },
     "metadata": {},
     "output_type": "display_data"
    }
   ],
   "source": [
    "from pyDG1022 import rDG1022\n",
    "import time\n",
    "import usb\n",
    "import usb.core\n",
    "from ipywidgets import interact, fixed\n",
    "import ipywidgets as widgets\n",
    "\n",
    "#\n",
    "# Initializing and trying to write to the signal generator\n",
    "#\n",
    "try:\n",
    "    # Initialize device\n",
    "    mydevice = rDG1022()\n",
    "\n",
    "    # Test device ID\n",
    "    bcmd = mydevice.compose_message(\"*IDN?\", 1)\n",
    "    mydevice.writeCommand(bcmd)\n",
    "    response = mydevice.read(1)\n",
    "    \n",
    "    print(\"Device Response: \" + response)\n",
    "    \n",
    "    # Turn on outputs\n",
    "    mydevice.ch1()\n",
    "    mydevice.ch2()\n",
    "    \n",
    "    mydevice.f1(1000)\n",
    "    mydevice.f2(500)\n",
    "    \n",
    "    interact(mydevice.v1, voltage=2.5)\n",
    "    interact(mydevice.v2, voltage=3)\n",
    "    interact(mydevice.f1, frequency=1000)\n",
    "    interact(mydevice.f2, frequency=500)\n",
    "    \n",
    "except usb.core.USBError as e:\n",
    "    print(\"USB Error: \" + str(e) )"
   ]
  },
  {
   "cell_type": "code",
   "execution_count": 4,
   "metadata": {},
   "outputs": [
    {
     "name": "stdout",
     "output_type": "stream",
     "text": [
      "Nothing to clean up.\n"
     ]
    }
   ],
   "source": [
    "# Clean up so this works next time\n",
    "try:\n",
    "    del(mydevice)\n",
    "except NameError:\n",
    "    print(\"Nothing to clean up.\")"
   ]
  },
  {
   "cell_type": "markdown",
   "metadata": {},
   "source": [
    "Resources:\n",
    "https://github.com/walac/pyusb/blob/master/docs/tutorial.rst\n",
    "http://sdpha2.ucsd.edu/Lab_Equip_Manuals/USBTMC_1_00.pdf\n"
   ]
  }
 ],
 "metadata": {
  "kernelspec": {
   "display_name": "Python 3",
   "language": "python",
   "name": "python3"
  },
  "language_info": {
   "codemirror_mode": {
    "name": "ipython",
    "version": 3
   },
   "file_extension": ".py",
   "mimetype": "text/x-python",
   "name": "python",
   "nbconvert_exporter": "python",
   "pygments_lexer": "ipython3",
   "version": "3.8.3rc1"
  },
  "latex_envs": {
   "LaTeX_envs_menu_present": true,
   "autoclose": false,
   "autocomplete": true,
   "bibliofile": "biblio.bib",
   "cite_by": "apalike",
   "current_citInitial": 1,
   "eqLabelWithNumbers": true,
   "eqNumInitial": 1,
   "hotkeys": {
    "equation": "Ctrl-E",
    "itemize": "Ctrl-I"
   },
   "labels_anchors": false,
   "latex_user_defs": false,
   "report_style_numbering": false,
   "user_envs_cfg": false
  }
 },
 "nbformat": 4,
 "nbformat_minor": 4
}
