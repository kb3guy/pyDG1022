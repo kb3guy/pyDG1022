{
 "cells": [
  {
   "cell_type": "markdown",
   "metadata": {},
   "source": [
    "# Instrument Test\n",
    "\n",
    "This Jupyter notebook will help test the functions of the pyDG1022 library, and serve as sort of a tutorial for how to use it, as well. "
   ]
  },
  {
   "cell_type": "code",
   "execution_count": 16,
   "metadata": {},
   "outputs": [
    {
     "name": "stdout",
     "output_type": "stream",
     "text": [
      "USB Error: [Errno 16] Resource busy\n"
     ]
    }
   ],
   "source": [
    "from pyDG1022 import rDG1022\n",
    "import time\n",
    "import usb\n",
    "import usb.core\n",
    "\n",
    "#\n",
    "# Initializing and trying to write to the signal generator\n",
    "#\n",
    "try:\n",
    "    # Initialize device\n",
    "    mydevice = rDG1022()\n",
    "\n",
    "    # Generating a command. This creates a message header,\n",
    "    # and spits out something in byte-array form, rather than a string.\n",
    "    bcmd = mydevice.compose_message(\"*IDN?\")\n",
    "    # Writing the command to the signal generator.  \n",
    "    mydevice.writeCommand(bcmd)\n",
    "    # Reading the device's response\n",
    "    response = mydevice.read()\n",
    "    print(\"Device Response: \" + response)\n",
    "    \n",
    "    # Turn on outputs\n",
    "    mydevice.ch1()\n",
    "    mydevice.ch2()\n",
    "    \n",
    "    mydevice.f1(600)\n",
    "    mydevice.f2(600)\n",
    "    \n",
    "    mydevice.v1(6)\n",
    "    \n",
    "    # the query method writes a question to the device and returns the answer\n",
    "    print(mydevice.query(\"VOLT?\"))\n",
    "    \n",
    "except usb.core.USBError as e:\n",
    "    print(\"USB Error: \" + str(e) )\n",
    "    "
   ]
  },
  {
   "cell_type": "markdown",
   "metadata": {},
   "source": [
    "# Lissajous Figures\n",
    "\n",
    "This is a fun demo. Lisajous figures are defined by the relations:\n",
    "\n",
    "$ x = Asin(at + \\delta) $\n",
    "\n",
    "$ y = Bsin(bt) $\n",
    "\n",
    "$\\delta$ is going to be a phase shift, where $a$ and $b$ are going to be frequency multipliers."
   ]
  },
  {
   "cell_type": "code",
   "execution_count": 32,
   "metadata": {},
   "outputs": [
    {
     "data": {
      "application/vnd.jupyter.widget-view+json": {
       "model_id": "e5fbf8892f4a4400a2a986b8e597fba4",
       "version_major": 2,
       "version_minor": 0
      },
      "text/plain": [
       "interactive(children=(FloatSlider(value=2.0, continuous_update=False, description='A', max=4.0), FloatSlider(v…"
      ]
     },
     "metadata": {},
     "output_type": "display_data"
    },
    {
     "data": {
      "text/plain": [
       "<function __main__.lissajous(A, B, a, b, d)>"
      ]
     },
     "execution_count": 32,
     "metadata": {},
     "output_type": "execute_result"
    }
   ],
   "source": [
    "import math\n",
    "from ipywidgets import FloatSlider\n",
    "\n",
    "def lissajous(A,B,a,b,d):\n",
    "\n",
    "    cmdstack = [\"FUNC SIN\",\n",
    "            \"FUNC:CH2 SIN\",\n",
    "            \"FREQ \" + str(10000*a),\n",
    "            \"FREQ:CH2 \" + str(10000*b),\n",
    "            \"VOLT:UNIT VPP\",\n",
    "            \"VOLT:CH2:UNIT VPP\",\n",
    "            \"VOLT: \" + str(A),\n",
    "            \"VOLT:CH2 \" + str(B),\n",
    "            \"PHAS \" + str(math.degrees(d)),\n",
    "            \"OUTP ON\",\n",
    "            \"OUTP:CH2 ON\"]\n",
    "\n",
    "    for cmd in cmdstack:\n",
    "        scmd = mydevice.compose_message(cmd)\n",
    "        mydevice.writeCommand(scmd)\n",
    "    \n",
    "interact(lissajous,\n",
    "         A=FloatSlider(min=0,max=4, step=0.1, value=2, continuous_update=False),\n",
    "         B=FloatSlider(min=0,max=4, step=0.1, value=2, continuous_update=False),\n",
    "         a=FloatSlider(min=0,max=8, step=1, value=1, continuous_update=False),\n",
    "         b=FloatSlider(min=0,max=8, step=1, value=1, continuous_update=False),\n",
    "         d=FloatSlider(min=0,max=math.pi, step=math.pi/8, continuous_update=False))\n"
   ]
  },
  {
   "cell_type": "markdown",
   "metadata": {},
   "source": [
    "# Generating Arbitrary Waveforms"
   ]
  },
  {
   "cell_type": "code",
   "execution_count": 17,
   "metadata": {},
   "outputs": [],
   "source": [
    "cmdstack = [\"FUNC USER\",\n",
    "           \"FREQ 100000\",\n",
    "           \"VOLT: UNIT VPP\",\n",
    "           \"VOLT: HIGH 4\",\n",
    "           \"VOLT:LOW -4\",\n",
    "           \"DATA:DAC VOLATILE,8192,16383,8192,0\",\n",
    "           \"FUNC: USER VOLATILE\",\n",
    "           \"OUTP ON\"]\n",
    "\n",
    "for cmd in cmdstack:\n",
    "    scmd = mydevice.compose_message(cmd)\n",
    "    mydevice.writeCommand(scmd)\n",
    "    \n",
    "\n"
   ]
  },
  {
   "cell_type": "markdown",
   "metadata": {},
   "source": [
    "# Cleaning Up"
   ]
  },
  {
   "cell_type": "code",
   "execution_count": 14,
   "metadata": {},
   "outputs": [],
   "source": [
    "    \n",
    "\n",
    "\n",
    "# Clean up so this works next time\n",
    "try:\n",
    "    del(mydevice)\n",
    "except NameError:\n",
    "    print(\"Nothing to clean up.\")"
   ]
  },
  {
   "cell_type": "markdown",
   "metadata": {},
   "source": [
    "Resources:\n",
    "https://github.com/walac/pyusb/blob/master/docs/tutorial.rst\n",
    "http://sdpha2.ucsd.edu/Lab_Equip_Manuals/USBTMC_1_00.pdf\n"
   ]
  }
 ],
 "metadata": {
  "kernelspec": {
   "display_name": "Python 3",
   "language": "python",
   "name": "python3"
  },
  "language_info": {
   "codemirror_mode": {
    "name": "ipython",
    "version": 3
   },
   "file_extension": ".py",
   "mimetype": "text/x-python",
   "name": "python",
   "nbconvert_exporter": "python",
   "pygments_lexer": "ipython3",
   "version": "3.8.3rc1"
  },
  "latex_envs": {
   "LaTeX_envs_menu_present": true,
   "autoclose": false,
   "autocomplete": true,
   "bibliofile": "biblio.bib",
   "cite_by": "apalike",
   "current_citInitial": 1,
   "eqLabelWithNumbers": true,
   "eqNumInitial": 1,
   "hotkeys": {
    "equation": "Ctrl-E",
    "itemize": "Ctrl-I"
   },
   "labels_anchors": false,
   "latex_user_defs": false,
   "report_style_numbering": false,
   "user_envs_cfg": false
  }
 },
 "nbformat": 4,
 "nbformat_minor": 4
}
